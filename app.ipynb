{
 "cells": [
  {
   "cell_type": "code",
   "execution_count": 4,
   "id": "2c9862ef",
   "metadata": {},
   "outputs": [],
   "source": [
    "import pandas as pd\n",
    "\n",
    "dataset = pd.read_csv('dataset/gold_dataset_monthly.csv')"
   ]
  },
  {
   "cell_type": "code",
   "execution_count": 5,
   "id": "480d6fb4",
   "metadata": {},
   "outputs": [
    {
     "data": {
      "text/html": [
       "<div>\n",
       "<style scoped>\n",
       "    .dataframe tbody tr th:only-of-type {\n",
       "        vertical-align: middle;\n",
       "    }\n",
       "\n",
       "    .dataframe tbody tr th {\n",
       "        vertical-align: top;\n",
       "    }\n",
       "\n",
       "    .dataframe thead th {\n",
       "        text-align: right;\n",
       "    }\n",
       "</style>\n",
       "<table border=\"1\" class=\"dataframe\">\n",
       "  <thead>\n",
       "    <tr style=\"text-align: right;\">\n",
       "      <th></th>\n",
       "      <th>ano</th>\n",
       "      <th>mes</th>\n",
       "      <th>preco_ouro</th>\n",
       "      <th>ipc</th>\n",
       "      <th>indice_nyse</th>\n",
       "    </tr>\n",
       "  </thead>\n",
       "  <tbody>\n",
       "    <tr>\n",
       "      <th>0</th>\n",
       "      <td>2007</td>\n",
       "      <td>1</td>\n",
       "      <td>631.06</td>\n",
       "      <td>202.42</td>\n",
       "      <td>9132.09</td>\n",
       "    </tr>\n",
       "    <tr>\n",
       "      <th>1</th>\n",
       "      <td>2007</td>\n",
       "      <td>2</td>\n",
       "      <td>666.44</td>\n",
       "      <td>203.50</td>\n",
       "      <td>9346.47</td>\n",
       "    </tr>\n",
       "    <tr>\n",
       "      <th>2</th>\n",
       "      <td>2007</td>\n",
       "      <td>3</td>\n",
       "      <td>654.19</td>\n",
       "      <td>205.35</td>\n",
       "      <td>9120.57</td>\n",
       "    </tr>\n",
       "    <tr>\n",
       "      <th>3</th>\n",
       "      <td>2007</td>\n",
       "      <td>4</td>\n",
       "      <td>679.64</td>\n",
       "      <td>206.69</td>\n",
       "      <td>9555.98</td>\n",
       "    </tr>\n",
       "    <tr>\n",
       "      <th>4</th>\n",
       "      <td>2007</td>\n",
       "      <td>5</td>\n",
       "      <td>667.59</td>\n",
       "      <td>207.95</td>\n",
       "      <td>9822.99</td>\n",
       "    </tr>\n",
       "  </tbody>\n",
       "</table>\n",
       "</div>"
      ],
      "text/plain": [
       "    ano  mes  preco_ouro     ipc  indice_nyse\n",
       "0  2007    1      631.06  202.42      9132.09\n",
       "1  2007    2      666.44  203.50      9346.47\n",
       "2  2007    3      654.19  205.35      9120.57\n",
       "3  2007    4      679.64  206.69      9555.98\n",
       "4  2007    5      667.59  207.95      9822.99"
      ]
     },
     "execution_count": 5,
     "metadata": {},
     "output_type": "execute_result"
    }
   ],
   "source": [
    "dataset.head()"
   ]
  },
  {
   "cell_type": "code",
   "execution_count": 7,
   "id": "924c43ca",
   "metadata": {},
   "outputs": [
    {
     "data": {
      "text/html": [
       "<div>\n",
       "<style scoped>\n",
       "    .dataframe tbody tr th:only-of-type {\n",
       "        vertical-align: middle;\n",
       "    }\n",
       "\n",
       "    .dataframe tbody tr th {\n",
       "        vertical-align: top;\n",
       "    }\n",
       "\n",
       "    .dataframe thead th {\n",
       "        text-align: right;\n",
       "    }\n",
       "</style>\n",
       "<table border=\"1\" class=\"dataframe\">\n",
       "  <thead>\n",
       "    <tr style=\"text-align: right;\">\n",
       "      <th></th>\n",
       "      <th>ano</th>\n",
       "      <th>preco_ouro</th>\n",
       "      <th>ipc</th>\n",
       "      <th>indice_nyse</th>\n",
       "    </tr>\n",
       "  </thead>\n",
       "  <tbody>\n",
       "    <tr>\n",
       "      <th>count</th>\n",
       "      <td>16.000000</td>\n",
       "      <td>16.000000</td>\n",
       "      <td>16.000000</td>\n",
       "      <td>16.000000</td>\n",
       "    </tr>\n",
       "    <tr>\n",
       "      <th>mean</th>\n",
       "      <td>2014.500000</td>\n",
       "      <td>1336.895000</td>\n",
       "      <td>239.426250</td>\n",
       "      <td>10609.211875</td>\n",
       "    </tr>\n",
       "    <tr>\n",
       "      <th>std</th>\n",
       "      <td>4.760952</td>\n",
       "      <td>328.244801</td>\n",
       "      <td>22.635042</td>\n",
       "      <td>2890.463599</td>\n",
       "    </tr>\n",
       "    <tr>\n",
       "      <th>min</th>\n",
       "      <td>2007.000000</td>\n",
       "      <td>697.400000</td>\n",
       "      <td>207.340000</td>\n",
       "      <td>6100.640000</td>\n",
       "    </tr>\n",
       "    <tr>\n",
       "      <th>25%</th>\n",
       "      <td>2010.750000</td>\n",
       "      <td>1210.467500</td>\n",
       "      <td>223.220000</td>\n",
       "      <td>8025.205000</td>\n",
       "    </tr>\n",
       "    <tr>\n",
       "      <th>50%</th>\n",
       "      <td>2014.500000</td>\n",
       "      <td>1267.580000</td>\n",
       "      <td>236.880000</td>\n",
       "      <td>10523.500000</td>\n",
       "    </tr>\n",
       "    <tr>\n",
       "      <th>75%</th>\n",
       "      <td>2018.250000</td>\n",
       "      <td>1596.727500</td>\n",
       "      <td>252.247500</td>\n",
       "      <td>12631.530000</td>\n",
       "    </tr>\n",
       "    <tr>\n",
       "      <th>max</th>\n",
       "      <td>2022.000000</td>\n",
       "      <td>1801.920000</td>\n",
       "      <td>292.650000</td>\n",
       "      <td>16262.100000</td>\n",
       "    </tr>\n",
       "  </tbody>\n",
       "</table>\n",
       "</div>"
      ],
      "text/plain": [
       "               ano   preco_ouro         ipc   indice_nyse\n",
       "count    16.000000    16.000000   16.000000     16.000000\n",
       "mean   2014.500000  1336.895000  239.426250  10609.211875\n",
       "std       4.760952   328.244801   22.635042   2890.463599\n",
       "min    2007.000000   697.400000  207.340000   6100.640000\n",
       "25%    2010.750000  1210.467500  223.220000   8025.205000\n",
       "50%    2014.500000  1267.580000  236.880000  10523.500000\n",
       "75%    2018.250000  1596.727500  252.247500  12631.530000\n",
       "max    2022.000000  1801.920000  292.650000  16262.100000"
      ]
     },
     "execution_count": 7,
     "metadata": {},
     "output_type": "execute_result"
    }
   ],
   "source": [
    "dataset.describe()"
   ]
  },
  {
   "cell_type": "code",
   "execution_count": 6,
   "id": "4abe3be8",
   "metadata": {},
   "outputs": [
    {
     "name": "stdout",
     "output_type": "stream",
     "text": [
      "                            OLS Regression Results                            \n",
      "==============================================================================\n",
      "Dep. Variable:             preco_ouro   R-squared:                       0.582\n",
      "Model:                            OLS   Adj. R-squared:                  0.578\n",
      "Method:                 Least Squares   F-statistic:                     131.8\n",
      "Date:                Thu, 11 Sep 2025   Prob (F-statistic):           1.43e-36\n",
      "Time:                        13:08:03   Log-Likelihood:                -1301.4\n",
      "No. Observations:                 192   AIC:                             2609.\n",
      "Df Residuals:                     189   BIC:                             2619.\n",
      "Df Model:                           2                                         \n",
      "Covariance Type:            nonrobust                                         \n",
      "===============================================================================\n",
      "                  coef    std err          t      P>|t|      [0.025      0.975]\n",
      "-------------------------------------------------------------------------------\n",
      "const       -2237.9571    258.867     -8.645      0.000   -2748.597   -1727.317\n",
      "ipc            17.4935      1.506     11.614      0.000      14.522      20.465\n",
      "indice_nyse    -0.0578      0.012     -5.001      0.000      -0.081      -0.035\n",
      "==============================================================================\n",
      "Omnibus:                       10.276   Durbin-Watson:                   0.066\n",
      "Prob(Omnibus):                  0.006   Jarque-Bera (JB):                8.299\n",
      "Skew:                           0.414   Prob(JB):                       0.0158\n",
      "Kurtosis:                       2.408   Cond. No.                     1.84e+05\n",
      "==============================================================================\n",
      "\n",
      "Notes:\n",
      "[1] Standard Errors assume that the covariance matrix of the errors is correctly specified.\n",
      "[2] The condition number is large, 1.84e+05. This might indicate that there are\n",
      "strong multicollinearity or other numerical problems.\n"
     ]
    }
   ],
   "source": [
    "import statsmodels.api as sm\n",
    "import numpy as np\n",
    "\n",
    "# Adiciona constante (intercepto)\n",
    "X = sm.add_constant(dataset[['ipc', 'indice_nyse']])\n",
    "y = dataset['preco_ouro']\n",
    "\n",
    "#y = np.log(dataset['preco_ouro'])\n",
    "\n",
    "# Ajuste do modelo\n",
    "model = sm.OLS(y, X).fit()\n",
    "\n",
    "# Resumo completo\n",
    "print(model.summary())"
   ]
  },
  {
   "cell_type": "code",
   "execution_count": null,
   "id": "75840b54",
   "metadata": {},
   "outputs": [
    {
     "name": "stdout",
     "output_type": "stream",
     "text": [
      "{'LM Stat': np.float64(40.594605892392394), 'LM p-value': np.float64(1.5310639574441887e-09), 'F-Stat': np.float64(25.337209941837372), 'F p-value': np.float64(1.7839853136886386e-10)}\n"
     ]
    }
   ],
   "source": [
    "from statsmodels.stats.diagnostic import het_breuschpagan\n",
    "\n",
    "bp_test = het_breuschpagan(model.resid, model.model.exog)\n",
    "\n",
    "# Resultados\n",
    "labels = ['LM Stat', 'LM p-value', 'F-Stat', 'F p-value']\n",
    "print(dict(zip(labels, bp_test)))"
   ]
  },
  {
   "cell_type": "code",
   "execution_count": 15,
   "id": "5997c201",
   "metadata": {},
   "outputs": [
    {
     "data": {
      "text/plain": [
       "np.float64(0.9095396849841281)"
      ]
     },
     "execution_count": 15,
     "metadata": {},
     "output_type": "execute_result"
    }
   ],
   "source": [
    "dataset['ipc'].corr(dataset['indice_nyse'])"
   ]
  },
  {
   "cell_type": "code",
   "execution_count": 32,
   "id": "5563c2c1",
   "metadata": {},
   "outputs": [
    {
     "name": "stdout",
     "output_type": "stream",
     "text": [
      "                            OLS Regression Results                            \n",
      "==============================================================================\n",
      "Dep. Variable:             preco_ouro   R-squared:                       0.582\n",
      "Model:                            OLS   Adj. R-squared:                  0.578\n",
      "Method:                 Least Squares   F-statistic:                     96.36\n",
      "Date:                Tue, 09 Sep 2025   Prob (F-statistic):           1.42e-29\n",
      "Time:                        20:31:00   Log-Likelihood:                -1301.4\n",
      "No. Observations:                 192   AIC:                             2609.\n",
      "Df Residuals:                     189   BIC:                             2619.\n",
      "Df Model:                           2                                         \n",
      "Covariance Type:                  HC0                                         \n",
      "===============================================================================\n",
      "                  coef    std err          t      P>|t|      [0.025      0.975]\n",
      "-------------------------------------------------------------------------------\n",
      "const       -2237.9571    302.429     -7.400      0.000   -2834.527   -1641.387\n",
      "ipc            17.4935      1.803      9.702      0.000      13.937      21.050\n",
      "indice_nyse    -0.0578      0.014     -4.197      0.000      -0.085      -0.031\n",
      "==============================================================================\n",
      "Omnibus:                       10.276   Durbin-Watson:                   0.066\n",
      "Prob(Omnibus):                  0.006   Jarque-Bera (JB):                8.299\n",
      "Skew:                           0.414   Prob(JB):                       0.0158\n",
      "Kurtosis:                       2.408   Cond. No.                     1.84e+05\n",
      "==============================================================================\n",
      "\n",
      "Notes:\n",
      "[1] Standard Errors are heteroscedasticity robust (HC0)\n",
      "[2] The condition number is large, 1.84e+05. This might indicate that there are\n",
      "strong multicollinearity or other numerical problems.\n"
     ]
    }
   ],
   "source": [
    "robust_model = model.get_robustcov_results(cov_type='HC0')\n",
    "print(robust_model.summary())"
   ]
  },
  {
   "cell_type": "code",
   "execution_count": 33,
   "id": "6ab82102",
   "metadata": {},
   "outputs": [
    {
     "name": "stdout",
     "output_type": "stream",
     "text": [
      "{'LM Stat': np.float64(40.594605892392394), 'LM p-value': np.float64(1.5310639574441887e-09), 'F-Stat': np.float64(25.337209941837372), 'F p-value': np.float64(1.7839853136886386e-10)}\n"
     ]
    }
   ],
   "source": [
    "from statsmodels.stats.diagnostic import het_breuschpagan\n",
    "\n",
    "bp_test = het_breuschpagan(robust_model.resid, robust_model.model.exog)\n",
    "\n",
    "# Resultados\n",
    "labels = ['LM Stat', 'LM p-value', 'F-Stat', 'F p-value']\n",
    "print(dict(zip(labels, bp_test)))"
   ]
  },
  {
   "cell_type": "code",
   "execution_count": 7,
   "id": "adb94512",
   "metadata": {},
   "outputs": [
    {
     "data": {
      "application/vnd.microsoft.datawrangler.viewer.v0+json": {
       "columns": [
        {
         "name": "index",
         "rawType": "int64",
         "type": "integer"
        },
        {
         "name": "Variavel",
         "rawType": "object",
         "type": "string"
        },
        {
         "name": "VIF",
         "rawType": "float64",
         "type": "float"
        }
       ],
       "ref": "7f4bc3e7-a377-410b-a45d-4d2fda8b2871",
       "rows": [
        [
         "0",
         "const",
         "280.20146246093435"
        ],
        [
         "1",
         "ipc",
         "4.619637470974404"
        ],
        [
         "2",
         "indice_nyse",
         "4.619637470974406"
        ]
       ],
       "shape": {
        "columns": 2,
        "rows": 3
       }
      },
      "text/html": [
       "<div>\n",
       "<style scoped>\n",
       "    .dataframe tbody tr th:only-of-type {\n",
       "        vertical-align: middle;\n",
       "    }\n",
       "\n",
       "    .dataframe tbody tr th {\n",
       "        vertical-align: top;\n",
       "    }\n",
       "\n",
       "    .dataframe thead th {\n",
       "        text-align: right;\n",
       "    }\n",
       "</style>\n",
       "<table border=\"1\" class=\"dataframe\">\n",
       "  <thead>\n",
       "    <tr style=\"text-align: right;\">\n",
       "      <th></th>\n",
       "      <th>Variavel</th>\n",
       "      <th>VIF</th>\n",
       "    </tr>\n",
       "  </thead>\n",
       "  <tbody>\n",
       "    <tr>\n",
       "      <th>0</th>\n",
       "      <td>const</td>\n",
       "      <td>280.201462</td>\n",
       "    </tr>\n",
       "    <tr>\n",
       "      <th>1</th>\n",
       "      <td>ipc</td>\n",
       "      <td>4.619637</td>\n",
       "    </tr>\n",
       "    <tr>\n",
       "      <th>2</th>\n",
       "      <td>indice_nyse</td>\n",
       "      <td>4.619637</td>\n",
       "    </tr>\n",
       "  </tbody>\n",
       "</table>\n",
       "</div>"
      ],
      "text/plain": [
       "      Variavel         VIF\n",
       "0        const  280.201462\n",
       "1          ipc    4.619637\n",
       "2  indice_nyse    4.619637"
      ]
     },
     "execution_count": 7,
     "metadata": {},
     "output_type": "execute_result"
    }
   ],
   "source": [
    "from statsmodels.stats.outliers_influence import variance_inflation_factor\n",
    "\n",
    "X_VIF = dataset[['ipc', 'indice_nyse']]\n",
    "X_VIF = sm.add_constant(X_VIF)\n",
    "\n",
    "vif_data = pd.DataFrame()\n",
    "vif_data['Variavel'] = X_VIF.columns\n",
    "vif_data['VIF'] = [variance_inflation_factor(X_VIF.values, i)\n",
    "                   for i in range(X_VIF.shape[1])]\n",
    "\n",
    "vif_data"
   ]
  },
  {
   "cell_type": "code",
   "execution_count": 4,
   "id": "ae2bbe7c",
   "metadata": {},
   "outputs": [
    {
     "name": "stdout",
     "output_type": "stream",
     "text": [
      "                            OLS Regression Results                            \n",
      "==============================================================================\n",
      "Dep. Variable:             preco_ouro   R-squared:                       0.979\n",
      "Model:                            OLS   Adj. R-squared:                  0.978\n",
      "Method:                 Least Squares   F-statistic:                     2868.\n",
      "Date:                Wed, 10 Sep 2025   Prob (F-statistic):          4.89e-156\n",
      "Time:                        16:58:28   Log-Likelihood:                -1008.5\n",
      "No. Observations:                 191   AIC:                             2025.\n",
      "Df Residuals:                     187   BIC:                             2038.\n",
      "Df Model:                           3                                         \n",
      "Covariance Type:            nonrobust                                         \n",
      "===================================================================================\n",
      "                      coef    std err          t      P>|t|      [0.025      0.975]\n",
      "-----------------------------------------------------------------------------------\n",
      "const             -13.6050     69.629     -0.195      0.845    -150.965     123.755\n",
      "ipc                 0.2802      0.447      0.627      0.531      -0.601       1.161\n",
      "indice_nyse        -0.0013      0.003     -0.477      0.634      -0.007       0.004\n",
      "preco_ouro_lag1     0.9750      0.016     59.703      0.000       0.943       1.007\n",
      "==============================================================================\n",
      "Omnibus:                        8.487   Durbin-Watson:                   1.556\n",
      "Prob(Omnibus):                  0.014   Jarque-Bera (JB):                9.899\n",
      "Skew:                           0.352   Prob(JB):                      0.00709\n",
      "Kurtosis:                       3.865   Cond. No.                     2.22e+05\n",
      "==============================================================================\n",
      "\n",
      "Notes:\n",
      "[1] Standard Errors assume that the covariance matrix of the errors is correctly specified.\n",
      "[2] The condition number is large, 2.22e+05. This might indicate that there are\n",
      "strong multicollinearity or other numerical problems.\n"
     ]
    }
   ],
   "source": [
    "import pandas as pd\n",
    "import statsmodels.api as sm\n",
    "\n",
    "# Criar defasagens (lags)\n",
    "# Lag de 1 período no preço do ouro\n",
    "dataset['preco_ouro_lag1'] = dataset['preco_ouro'].shift(1)\n",
    "\n",
    "# Você pode adicionar lags das variáveis explicativas também, se quiser:\n",
    "# dataset['ipc_lag1'] = dataset['ipc'].shift(1)\n",
    "# dataset['indice_nyse_lag1'] = dataset['indice_nyse'].shift(1)\n",
    "\n",
    "# Remover as linhas iniciais que ficaram com NaN por causa do shift\n",
    "dataset_lagged = dataset.dropna()\n",
    "\n",
    "# Definir X e y\n",
    "X = dataset_lagged[['ipc', 'indice_nyse', 'preco_ouro_lag1']]\n",
    "X = sm.add_constant(X)  # intercepto\n",
    "y = dataset_lagged['preco_ouro']\n",
    "\n",
    "# Ajustar o modelo OLS com lag\n",
    "model = sm.OLS(y, X).fit()\n",
    "\n",
    "# Resumo do modelo\n",
    "print(model.summary())"
   ]
  }
 ],
 "metadata": {
  "kernelspec": {
   "display_name": ".venv",
   "language": "python",
   "name": "python3"
  },
  "language_info": {
   "codemirror_mode": {
    "name": "ipython",
    "version": 3
   },
   "file_extension": ".py",
   "mimetype": "text/x-python",
   "name": "python",
   "nbconvert_exporter": "python",
   "pygments_lexer": "ipython3",
   "version": "3.13.3"
  }
 },
 "nbformat": 4,
 "nbformat_minor": 5
}
