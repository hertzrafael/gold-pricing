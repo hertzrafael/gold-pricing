{
 "cells": [
  {
   "cell_type": "code",
   "execution_count": 2,
   "id": "2c9862ef",
   "metadata": {},
   "outputs": [],
   "source": [
    "import pandas as pd\n",
    "\n",
    "dataset = pd.read_csv('dataset/gold_dataset.csv')"
   ]
  },
  {
   "cell_type": "code",
   "execution_count": 3,
   "id": "480d6fb4",
   "metadata": {},
   "outputs": [
    {
     "data": {
      "text/html": [
       "<div>\n",
       "<style scoped>\n",
       "    .dataframe tbody tr th:only-of-type {\n",
       "        vertical-align: middle;\n",
       "    }\n",
       "\n",
       "    .dataframe tbody tr th {\n",
       "        vertical-align: top;\n",
       "    }\n",
       "\n",
       "    .dataframe thead th {\n",
       "        text-align: right;\n",
       "    }\n",
       "</style>\n",
       "<table border=\"1\" class=\"dataframe\">\n",
       "  <thead>\n",
       "    <tr style=\"text-align: right;\">\n",
       "      <th></th>\n",
       "      <th>ano</th>\n",
       "      <th>preco_ouro</th>\n",
       "      <th>ipc</th>\n",
       "      <th>indice_nyse</th>\n",
       "    </tr>\n",
       "  </thead>\n",
       "  <tbody>\n",
       "    <tr>\n",
       "      <th>0</th>\n",
       "      <td>2007</td>\n",
       "      <td>697.40</td>\n",
       "      <td>207.34</td>\n",
       "      <td>9653.04</td>\n",
       "    </tr>\n",
       "    <tr>\n",
       "      <th>1</th>\n",
       "      <td>2008</td>\n",
       "      <td>872.21</td>\n",
       "      <td>215.30</td>\n",
       "      <td>8030.86</td>\n",
       "    </tr>\n",
       "    <tr>\n",
       "      <th>2</th>\n",
       "      <td>2009</td>\n",
       "      <td>974.07</td>\n",
       "      <td>214.54</td>\n",
       "      <td>6100.64</td>\n",
       "    </tr>\n",
       "    <tr>\n",
       "      <th>3</th>\n",
       "      <td>2010</td>\n",
       "      <td>1227.31</td>\n",
       "      <td>218.06</td>\n",
       "      <td>7233.54</td>\n",
       "    </tr>\n",
       "    <tr>\n",
       "      <th>4</th>\n",
       "      <td>2011</td>\n",
       "      <td>1572.72</td>\n",
       "      <td>224.94</td>\n",
       "      <td>7863.18</td>\n",
       "    </tr>\n",
       "  </tbody>\n",
       "</table>\n",
       "</div>"
      ],
      "text/plain": [
       "    ano  preco_ouro     ipc  indice_nyse\n",
       "0  2007      697.40  207.34      9653.04\n",
       "1  2008      872.21  215.30      8030.86\n",
       "2  2009      974.07  214.54      6100.64\n",
       "3  2010     1227.31  218.06      7233.54\n",
       "4  2011     1572.72  224.94      7863.18"
      ]
     },
     "execution_count": 3,
     "metadata": {},
     "output_type": "execute_result"
    }
   ],
   "source": [
    "dataset.head()"
   ]
  },
  {
   "cell_type": "code",
   "execution_count": 4,
   "id": "4abe3be8",
   "metadata": {},
   "outputs": [
    {
     "name": "stdout",
     "output_type": "stream",
     "text": [
      "                            OLS Regression Results                            \n",
      "==============================================================================\n",
      "Dep. Variable:             preco_ouro   R-squared:                       0.670\n",
      "Model:                            OLS   Adj. R-squared:                  0.619\n",
      "Method:                 Least Squares   F-statistic:                     13.18\n",
      "Date:                Thu, 04 Sep 2025   Prob (F-statistic):           0.000746\n",
      "Time:                        15:04:47   Log-Likelihood:                -106.03\n",
      "No. Observations:                  16   AIC:                             218.1\n",
      "Df Residuals:                      13   BIC:                             220.4\n",
      "Df Model:                           2                                         \n",
      "Covariance Type:            nonrobust                                         \n",
      "===============================================================================\n",
      "                  coef    std err          t      P>|t|      [0.025      0.975]\n",
      "-------------------------------------------------------------------------------\n",
      "const       -2782.3347    932.748     -2.983      0.011   -4797.415    -767.255\n",
      "ipc            21.0800      5.562      3.790      0.002       9.065      33.095\n",
      "indice_nyse    -0.0875      0.044     -2.008      0.066      -0.182       0.007\n",
      "==============================================================================\n",
      "Omnibus:                        2.343   Durbin-Watson:                   1.131\n",
      "Prob(Omnibus):                  0.310   Jarque-Bera (JB):                1.544\n",
      "Skew:                           0.545   Prob(JB):                        0.462\n",
      "Kurtosis:                       1.938   Cond. No.                     2.02e+05\n",
      "==============================================================================\n",
      "\n",
      "Notes:\n",
      "[1] Standard Errors assume that the covariance matrix of the errors is correctly specified.\n",
      "[2] The condition number is large, 2.02e+05. This might indicate that there are\n",
      "strong multicollinearity or other numerical problems.\n"
     ]
    }
   ],
   "source": [
    "import statsmodels.api as sm\n",
    "\n",
    "# Adiciona constante (intercepto)\n",
    "X = sm.add_constant(dataset[['ipc', 'indice_nyse']])\n",
    "y = dataset['preco_ouro']\n",
    "\n",
    "# Ajuste do modelo\n",
    "model = sm.OLS(y, X).fit()\n",
    "\n",
    "# Resumo completo\n",
    "print(model.summary())"
   ]
  },
  {
   "cell_type": "code",
   "execution_count": 70,
   "id": "75840b54",
   "metadata": {},
   "outputs": [
    {
     "name": "stdout",
     "output_type": "stream",
     "text": [
      "{'LM Stat': np.float64(2.5341104959041587), 'LM p-value': np.float64(0.2816598200925923), 'F-Stat': np.float64(1.223217984847338), 'F p-value': np.float64(0.3260227564348493)}\n"
     ]
    }
   ],
   "source": [
    "from statsmodels.stats.diagnostic import het_breuschpagan\n",
    "\n",
    "bp_test = het_breuschpagan(model.resid, model.model.exog)\n",
    "\n",
    "# Resultados\n",
    "labels = ['LM Stat', 'LM p-value', 'F-Stat', 'F p-value']\n",
    "print(dict(zip(labels, bp_test)))"
   ]
  },
  {
   "cell_type": "code",
   "execution_count": 71,
   "id": "5997c201",
   "metadata": {},
   "outputs": [
    {
     "data": {
      "text/plain": [
       "np.float64(0.9095396849841281)"
      ]
     },
     "execution_count": 71,
     "metadata": {},
     "output_type": "execute_result"
    }
   ],
   "source": [
    "dataset['ipc'].corr(dataset['indice_nyse'])"
   ]
  },
  {
   "cell_type": "code",
   "execution_count": 73,
   "id": "adb94512",
   "metadata": {},
   "outputs": [
    {
     "data": {
      "text/html": [
       "<div>\n",
       "<style scoped>\n",
       "    .dataframe tbody tr th:only-of-type {\n",
       "        vertical-align: middle;\n",
       "    }\n",
       "\n",
       "    .dataframe tbody tr th {\n",
       "        vertical-align: top;\n",
       "    }\n",
       "\n",
       "    .dataframe thead th {\n",
       "        text-align: right;\n",
       "    }\n",
       "</style>\n",
       "<table border=\"1\" class=\"dataframe\">\n",
       "  <thead>\n",
       "    <tr style=\"text-align: right;\">\n",
       "      <th></th>\n",
       "      <th>Variavel</th>\n",
       "      <th>VIF</th>\n",
       "    </tr>\n",
       "  </thead>\n",
       "  <tbody>\n",
       "    <tr>\n",
       "      <th>0</th>\n",
       "      <td>const</td>\n",
       "      <td>338.988958</td>\n",
       "    </tr>\n",
       "    <tr>\n",
       "      <th>1</th>\n",
       "      <td>ipc</td>\n",
       "      <td>5.789129</td>\n",
       "    </tr>\n",
       "    <tr>\n",
       "      <th>2</th>\n",
       "      <td>indice_nyse</td>\n",
       "      <td>5.789129</td>\n",
       "    </tr>\n",
       "  </tbody>\n",
       "</table>\n",
       "</div>"
      ],
      "text/plain": [
       "      Variavel         VIF\n",
       "0        const  338.988958\n",
       "1          ipc    5.789129\n",
       "2  indice_nyse    5.789129"
      ]
     },
     "execution_count": 73,
     "metadata": {},
     "output_type": "execute_result"
    }
   ],
   "source": [
    "from statsmodels.stats.outliers_influence import variance_inflation_factor\n",
    "\n",
    "X_VIF = dataset[['ipc', 'indice_nyse']]\n",
    "X_VIF = sm.add_constant(X_VIF)\n",
    "\n",
    "vif_data = pd.DataFrame()\n",
    "vif_data['Variavel'] = X_VIF.columns\n",
    "vif_data['VIF'] = [variance_inflation_factor(X_VIF.values, i)\n",
    "                   for i in range(X_VIF.shape[1])]\n",
    "\n",
    "vif_data"
   ]
  }
 ],
 "metadata": {
  "kernelspec": {
   "display_name": ".venv",
   "language": "python",
   "name": "python3"
  },
  "language_info": {
   "codemirror_mode": {
    "name": "ipython",
    "version": 3
   },
   "file_extension": ".py",
   "mimetype": "text/x-python",
   "name": "python",
   "nbconvert_exporter": "python",
   "pygments_lexer": "ipython3",
   "version": "3.13.3"
  }
 },
 "nbformat": 4,
 "nbformat_minor": 5
}
