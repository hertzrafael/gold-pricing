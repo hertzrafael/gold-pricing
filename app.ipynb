{
 "cells": [
  {
   "cell_type": "code",
   "execution_count": 2,
   "id": "2c9862ef",
   "metadata": {},
   "outputs": [],
   "source": [
    "import pandas as pd\n",
    "\n",
    "dataset = pd.read_csv('dataset/gold_dataset_monthly.csv')"
   ]
  },
  {
   "cell_type": "code",
   "execution_count": 3,
   "id": "480d6fb4",
   "metadata": {},
   "outputs": [
    {
     "data": {
      "application/vnd.microsoft.datawrangler.viewer.v0+json": {
       "columns": [
        {
         "name": "index",
         "rawType": "int64",
         "type": "integer"
        },
        {
         "name": "ano",
         "rawType": "int64",
         "type": "integer"
        },
        {
         "name": "mes",
         "rawType": "int64",
         "type": "integer"
        },
        {
         "name": "preco_ouro",
         "rawType": "float64",
         "type": "float"
        },
        {
         "name": "ipc",
         "rawType": "float64",
         "type": "float"
        },
        {
         "name": "indice_nyse",
         "rawType": "float64",
         "type": "float"
        }
       ],
       "ref": "73268155-ac27-4590-a78c-29f0e4ce2657",
       "rows": [
        [
         "0",
         "2007",
         "1",
         "631.06",
         "202.42",
         "9132.09"
        ],
        [
         "1",
         "2007",
         "2",
         "666.44",
         "203.5",
         "9346.47"
        ],
        [
         "2",
         "2007",
         "3",
         "654.19",
         "205.35",
         "9120.57"
        ],
        [
         "3",
         "2007",
         "4",
         "679.64",
         "206.69",
         "9555.98"
        ],
        [
         "4",
         "2007",
         "5",
         "667.59",
         "207.95",
         "9822.99"
        ]
       ],
       "shape": {
        "columns": 5,
        "rows": 5
       }
      },
      "text/html": [
       "<div>\n",
       "<style scoped>\n",
       "    .dataframe tbody tr th:only-of-type {\n",
       "        vertical-align: middle;\n",
       "    }\n",
       "\n",
       "    .dataframe tbody tr th {\n",
       "        vertical-align: top;\n",
       "    }\n",
       "\n",
       "    .dataframe thead th {\n",
       "        text-align: right;\n",
       "    }\n",
       "</style>\n",
       "<table border=\"1\" class=\"dataframe\">\n",
       "  <thead>\n",
       "    <tr style=\"text-align: right;\">\n",
       "      <th></th>\n",
       "      <th>ano</th>\n",
       "      <th>mes</th>\n",
       "      <th>preco_ouro</th>\n",
       "      <th>ipc</th>\n",
       "      <th>indice_nyse</th>\n",
       "    </tr>\n",
       "  </thead>\n",
       "  <tbody>\n",
       "    <tr>\n",
       "      <th>0</th>\n",
       "      <td>2007</td>\n",
       "      <td>1</td>\n",
       "      <td>631.06</td>\n",
       "      <td>202.42</td>\n",
       "      <td>9132.09</td>\n",
       "    </tr>\n",
       "    <tr>\n",
       "      <th>1</th>\n",
       "      <td>2007</td>\n",
       "      <td>2</td>\n",
       "      <td>666.44</td>\n",
       "      <td>203.50</td>\n",
       "      <td>9346.47</td>\n",
       "    </tr>\n",
       "    <tr>\n",
       "      <th>2</th>\n",
       "      <td>2007</td>\n",
       "      <td>3</td>\n",
       "      <td>654.19</td>\n",
       "      <td>205.35</td>\n",
       "      <td>9120.57</td>\n",
       "    </tr>\n",
       "    <tr>\n",
       "      <th>3</th>\n",
       "      <td>2007</td>\n",
       "      <td>4</td>\n",
       "      <td>679.64</td>\n",
       "      <td>206.69</td>\n",
       "      <td>9555.98</td>\n",
       "    </tr>\n",
       "    <tr>\n",
       "      <th>4</th>\n",
       "      <td>2007</td>\n",
       "      <td>5</td>\n",
       "      <td>667.59</td>\n",
       "      <td>207.95</td>\n",
       "      <td>9822.99</td>\n",
       "    </tr>\n",
       "  </tbody>\n",
       "</table>\n",
       "</div>"
      ],
      "text/plain": [
       "    ano  mes  preco_ouro     ipc  indice_nyse\n",
       "0  2007    1      631.06  202.42      9132.09\n",
       "1  2007    2      666.44  203.50      9346.47\n",
       "2  2007    3      654.19  205.35      9120.57\n",
       "3  2007    4      679.64  206.69      9555.98\n",
       "4  2007    5      667.59  207.95      9822.99"
      ]
     },
     "execution_count": 3,
     "metadata": {},
     "output_type": "execute_result"
    }
   ],
   "source": [
    "dataset.head()"
   ]
  },
  {
   "cell_type": "code",
   "execution_count": 5,
   "id": "4abe3be8",
   "metadata": {},
   "outputs": [
    {
     "name": "stdout",
     "output_type": "stream",
     "text": [
      "                            OLS Regression Results                            \n",
      "==============================================================================\n",
      "Dep. Variable:             preco_ouro   R-squared:                       0.582\n",
      "Model:                            OLS   Adj. R-squared:                  0.578\n",
      "Method:                 Least Squares   F-statistic:                     131.8\n",
      "Date:                sáb, 06 set 2025   Prob (F-statistic):           1.43e-36\n",
      "Time:                        14:16:45   Log-Likelihood:                -1301.4\n",
      "No. Observations:                 192   AIC:                             2609.\n",
      "Df Residuals:                     189   BIC:                             2619.\n",
      "Df Model:                           2                                         \n",
      "Covariance Type:            nonrobust                                         \n",
      "===============================================================================\n",
      "                  coef    std err          t      P>|t|      [0.025      0.975]\n",
      "-------------------------------------------------------------------------------\n",
      "const       -2237.9571    258.867     -8.645      0.000   -2748.597   -1727.317\n",
      "ipc            17.4935      1.506     11.614      0.000      14.522      20.465\n",
      "indice_nyse    -0.0578      0.012     -5.001      0.000      -0.081      -0.035\n",
      "==============================================================================\n",
      "Omnibus:                       10.276   Durbin-Watson:                   0.066\n",
      "Prob(Omnibus):                  0.006   Jarque-Bera (JB):                8.299\n",
      "Skew:                           0.414   Prob(JB):                       0.0158\n",
      "Kurtosis:                       2.408   Cond. No.                     1.84e+05\n",
      "==============================================================================\n",
      "\n",
      "Notes:\n",
      "[1] Standard Errors assume that the covariance matrix of the errors is correctly specified.\n",
      "[2] The condition number is large, 1.84e+05. This might indicate that there are\n",
      "strong multicollinearity or other numerical problems.\n"
     ]
    }
   ],
   "source": [
    "import statsmodels.api as sm\n",
    "\n",
    "# Adiciona constante (intercepto)\n",
    "X = sm.add_constant(dataset[['ipc', 'indice_nyse']])\n",
    "y = dataset['preco_ouro']\n",
    "\n",
    "# Ajuste do modelo\n",
    "model = sm.OLS(y, X).fit()\n",
    "\n",
    "# Resumo completo\n",
    "print(model.summary())"
   ]
  },
  {
   "cell_type": "code",
   "execution_count": 70,
   "id": "75840b54",
   "metadata": {},
   "outputs": [
    {
     "name": "stdout",
     "output_type": "stream",
     "text": [
      "{'LM Stat': np.float64(2.5341104959041587), 'LM p-value': np.float64(0.2816598200925923), 'F-Stat': np.float64(1.223217984847338), 'F p-value': np.float64(0.3260227564348493)}\n"
     ]
    }
   ],
   "source": [
    "from statsmodels.stats.diagnostic import het_breuschpagan\n",
    "\n",
    "bp_test = het_breuschpagan(model.resid, model.model.exog)\n",
    "\n",
    "# Resultados\n",
    "labels = ['LM Stat', 'LM p-value', 'F-Stat', 'F p-value']\n",
    "print(dict(zip(labels, bp_test)))"
   ]
  },
  {
   "cell_type": "code",
   "execution_count": 6,
   "id": "5997c201",
   "metadata": {},
   "outputs": [
    {
     "data": {
      "text/plain": [
       "np.float64(0.8851738797996995)"
      ]
     },
     "execution_count": 6,
     "metadata": {},
     "output_type": "execute_result"
    }
   ],
   "source": [
    "dataset['ipc'].corr(dataset['indice_nyse'])"
   ]
  },
  {
   "cell_type": "code",
   "execution_count": 7,
   "id": "adb94512",
   "metadata": {},
   "outputs": [
    {
     "data": {
      "application/vnd.microsoft.datawrangler.viewer.v0+json": {
       "columns": [
        {
         "name": "index",
         "rawType": "int64",
         "type": "integer"
        },
        {
         "name": "Variavel",
         "rawType": "object",
         "type": "string"
        },
        {
         "name": "VIF",
         "rawType": "float64",
         "type": "float"
        }
       ],
       "ref": "7f4bc3e7-a377-410b-a45d-4d2fda8b2871",
       "rows": [
        [
         "0",
         "const",
         "280.20146246093435"
        ],
        [
         "1",
         "ipc",
         "4.619637470974404"
        ],
        [
         "2",
         "indice_nyse",
         "4.619637470974406"
        ]
       ],
       "shape": {
        "columns": 2,
        "rows": 3
       }
      },
      "text/html": [
       "<div>\n",
       "<style scoped>\n",
       "    .dataframe tbody tr th:only-of-type {\n",
       "        vertical-align: middle;\n",
       "    }\n",
       "\n",
       "    .dataframe tbody tr th {\n",
       "        vertical-align: top;\n",
       "    }\n",
       "\n",
       "    .dataframe thead th {\n",
       "        text-align: right;\n",
       "    }\n",
       "</style>\n",
       "<table border=\"1\" class=\"dataframe\">\n",
       "  <thead>\n",
       "    <tr style=\"text-align: right;\">\n",
       "      <th></th>\n",
       "      <th>Variavel</th>\n",
       "      <th>VIF</th>\n",
       "    </tr>\n",
       "  </thead>\n",
       "  <tbody>\n",
       "    <tr>\n",
       "      <th>0</th>\n",
       "      <td>const</td>\n",
       "      <td>280.201462</td>\n",
       "    </tr>\n",
       "    <tr>\n",
       "      <th>1</th>\n",
       "      <td>ipc</td>\n",
       "      <td>4.619637</td>\n",
       "    </tr>\n",
       "    <tr>\n",
       "      <th>2</th>\n",
       "      <td>indice_nyse</td>\n",
       "      <td>4.619637</td>\n",
       "    </tr>\n",
       "  </tbody>\n",
       "</table>\n",
       "</div>"
      ],
      "text/plain": [
       "      Variavel         VIF\n",
       "0        const  280.201462\n",
       "1          ipc    4.619637\n",
       "2  indice_nyse    4.619637"
      ]
     },
     "execution_count": 7,
     "metadata": {},
     "output_type": "execute_result"
    }
   ],
   "source": [
    "from statsmodels.stats.outliers_influence import variance_inflation_factor\n",
    "\n",
    "X_VIF = dataset[['ipc', 'indice_nyse']]\n",
    "X_VIF = sm.add_constant(X_VIF)\n",
    "\n",
    "vif_data = pd.DataFrame()\n",
    "vif_data['Variavel'] = X_VIF.columns\n",
    "vif_data['VIF'] = [variance_inflation_factor(X_VIF.values, i)\n",
    "                   for i in range(X_VIF.shape[1])]\n",
    "\n",
    "vif_data"
   ]
  },
  {
   "cell_type": "code",
   "execution_count": 12,
   "id": "ae2bbe7c",
   "metadata": {},
   "outputs": [
    {
     "name": "stdout",
     "output_type": "stream",
     "text": [
      "                            OLS Regression Results                            \n",
      "==============================================================================\n",
      "Dep. Variable:             preco_ouro   R-squared:                       0.656\n",
      "Model:                            OLS   Adj. R-squared:                  0.650\n",
      "Method:                 Least Squares   F-statistic:                     112.0\n",
      "Date:                sáb, 06 set 2025   Prob (F-statistic):           1.31e-40\n",
      "Time:                        15:10:27   Log-Likelihood:                -1182.1\n",
      "No. Observations:                 180   AIC:                             2372.\n",
      "Df Residuals:                     176   BIC:                             2385.\n",
      "Df Model:                           3                                         \n",
      "Covariance Type:            nonrobust                                         \n",
      "===================================================================================\n",
      "                      coef    std err          t      P>|t|      [0.025      0.975]\n",
      "-----------------------------------------------------------------------------------\n",
      "const            -607.6181    295.559     -2.056      0.041   -1190.913     -24.323\n",
      "ipc                 6.0816      1.783      3.411      0.001       2.563       9.600\n",
      "indice_nyse        -0.0217      0.012     -1.880      0.062      -0.044       0.001\n",
      "preco_ouro_lag1     0.5737      0.058      9.835      0.000       0.459       0.689\n",
      "==============================================================================\n",
      "Omnibus:                        8.930   Durbin-Watson:                   0.105\n",
      "Prob(Omnibus):                  0.012   Jarque-Bera (JB):                8.041\n",
      "Skew:                           0.448   Prob(JB):                       0.0179\n",
      "Kurtosis:                       2.480   Cond. No.                     2.54e+05\n",
      "==============================================================================\n",
      "\n",
      "Notes:\n",
      "[1] Standard Errors assume that the covariance matrix of the errors is correctly specified.\n",
      "[2] The condition number is large, 2.54e+05. This might indicate that there are\n",
      "strong multicollinearity or other numerical problems.\n"
     ]
    }
   ],
   "source": [
    "import pandas as pd\n",
    "import statsmodels.api as sm\n",
    "\n",
    "# Criar defasagens (lags)\n",
    "# Lag de 1 período no preço do ouro\n",
    "dataset['preco_ouro_lag1'] = dataset['preco_ouro'].shift(12)\n",
    "\n",
    "# Você pode adicionar lags das variáveis explicativas também, se quiser:\n",
    "# dataset['ipc_lag1'] = dataset['ipc'].shift(1)\n",
    "# dataset['indice_nyse_lag1'] = dataset['indice_nyse'].shift(1)\n",
    "\n",
    "# Remover as linhas iniciais que ficaram com NaN por causa do shift\n",
    "dataset_lagged = dataset.dropna()\n",
    "\n",
    "# Definir X e y\n",
    "X = dataset_lagged[['ipc', 'indice_nyse', 'preco_ouro_lag1']]\n",
    "X = sm.add_constant(X)  # intercepto\n",
    "y = dataset_lagged['preco_ouro']\n",
    "\n",
    "# Ajustar o modelo OLS com lag\n",
    "model = sm.OLS(y, X).fit()\n",
    "\n",
    "# Resumo do modelo\n",
    "print(model.summary())"
   ]
  }
 ],
 "metadata": {
  "kernelspec": {
   "display_name": ".venv",
   "language": "python",
   "name": "python3"
  },
  "language_info": {
   "codemirror_mode": {
    "name": "ipython",
    "version": 3
   },
   "file_extension": ".py",
   "mimetype": "text/x-python",
   "name": "python",
   "nbconvert_exporter": "python",
   "pygments_lexer": "ipython3",
   "version": "3.12.1"
  }
 },
 "nbformat": 4,
 "nbformat_minor": 5
}
